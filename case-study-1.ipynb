{
 "cells": [
  {
   "cell_type": "markdown",
   "metadata": {},
   "source": [
    "Dataset Details This dataset has funding information of the Indian startups from January 2015 to August 2017. Feature Details : SNo - Serial number. Date - Date of funding in format DD/MM/YYYY. StartupName - Name of the startup which got funded. IndustryVertical - Industry to which the startup belongs. SubVertical - Sub-category of the industry type. CityLocation - City which the startup is based out of. InvestorsName - Name of the investors involved in the funding round. InvestmentType - Either Private Equity or Seed Funding. AmountInUSD - Funding Amount in USD."
   ]
  },
  {
   "cell_type": "code",
   "execution_count": 1,
   "metadata": {},
   "outputs": [
    {
     "data": {
      "text/html": [
       "<div>\n",
       "<style scoped>\n",
       "    .dataframe tbody tr th:only-of-type {\n",
       "        vertical-align: middle;\n",
       "    }\n",
       "\n",
       "    .dataframe tbody tr th {\n",
       "        vertical-align: top;\n",
       "    }\n",
       "\n",
       "    .dataframe thead th {\n",
       "        text-align: right;\n",
       "    }\n",
       "</style>\n",
       "<table border=\"1\" class=\"dataframe\">\n",
       "  <thead>\n",
       "    <tr style=\"text-align: right;\">\n",
       "      <th></th>\n",
       "      <th>SNo</th>\n",
       "      <th>Date</th>\n",
       "      <th>StartupName</th>\n",
       "      <th>IndustryVertical</th>\n",
       "      <th>SubVertical</th>\n",
       "      <th>CityLocation</th>\n",
       "      <th>InvestorsName</th>\n",
       "      <th>InvestmentType</th>\n",
       "      <th>AmountInUSD</th>\n",
       "      <th>Remarks</th>\n",
       "    </tr>\n",
       "  </thead>\n",
       "  <tbody>\n",
       "    <tr>\n",
       "      <th>0</th>\n",
       "      <td>0</td>\n",
       "      <td>01/08/2017</td>\n",
       "      <td>TouchKin</td>\n",
       "      <td>Technology</td>\n",
       "      <td>Predictive Care Platform</td>\n",
       "      <td>Bangalore</td>\n",
       "      <td>Kae Capital</td>\n",
       "      <td>Private Equity</td>\n",
       "      <td>1,300,000</td>\n",
       "      <td>NaN</td>\n",
       "    </tr>\n",
       "    <tr>\n",
       "      <th>1</th>\n",
       "      <td>1</td>\n",
       "      <td>02/08/2017</td>\n",
       "      <td>Ethinos</td>\n",
       "      <td>Technology</td>\n",
       "      <td>Digital Marketing Agency</td>\n",
       "      <td>Mumbai</td>\n",
       "      <td>Triton Investment Advisors</td>\n",
       "      <td>Private Equity</td>\n",
       "      <td>NaN</td>\n",
       "      <td>NaN</td>\n",
       "    </tr>\n",
       "    <tr>\n",
       "      <th>2</th>\n",
       "      <td>2</td>\n",
       "      <td>02/08/2017</td>\n",
       "      <td>Leverage Edu</td>\n",
       "      <td>Consumer Internet</td>\n",
       "      <td>Online platform for Higher Education Services</td>\n",
       "      <td>New Delhi</td>\n",
       "      <td>Kashyap Deorah, Anand Sankeshwar, Deepak Jain,...</td>\n",
       "      <td>Seed Funding</td>\n",
       "      <td>NaN</td>\n",
       "      <td>NaN</td>\n",
       "    </tr>\n",
       "    <tr>\n",
       "      <th>3</th>\n",
       "      <td>3</td>\n",
       "      <td>02/08/2017</td>\n",
       "      <td>Zepo</td>\n",
       "      <td>Consumer Internet</td>\n",
       "      <td>DIY Ecommerce platform</td>\n",
       "      <td>Mumbai</td>\n",
       "      <td>Kunal Shah, LetsVenture, Anupam Mittal, Hetal ...</td>\n",
       "      <td>Seed Funding</td>\n",
       "      <td>500,000</td>\n",
       "      <td>NaN</td>\n",
       "    </tr>\n",
       "    <tr>\n",
       "      <th>4</th>\n",
       "      <td>4</td>\n",
       "      <td>02/08/2017</td>\n",
       "      <td>Click2Clinic</td>\n",
       "      <td>Consumer Internet</td>\n",
       "      <td>healthcare service aggregator</td>\n",
       "      <td>Hyderabad</td>\n",
       "      <td>Narottam Thudi, Shireesh Palle</td>\n",
       "      <td>Seed Funding</td>\n",
       "      <td>850,000</td>\n",
       "      <td>NaN</td>\n",
       "    </tr>\n",
       "    <tr>\n",
       "      <th>...</th>\n",
       "      <td>...</td>\n",
       "      <td>...</td>\n",
       "      <td>...</td>\n",
       "      <td>...</td>\n",
       "      <td>...</td>\n",
       "      <td>...</td>\n",
       "      <td>...</td>\n",
       "      <td>...</td>\n",
       "      <td>...</td>\n",
       "      <td>...</td>\n",
       "    </tr>\n",
       "    <tr>\n",
       "      <th>2367</th>\n",
       "      <td>2367</td>\n",
       "      <td>29/01/2015</td>\n",
       "      <td>Printvenue</td>\n",
       "      <td>NaN</td>\n",
       "      <td>NaN</td>\n",
       "      <td>NaN</td>\n",
       "      <td>Asia Pacific Internet Group</td>\n",
       "      <td>Private Equity</td>\n",
       "      <td>4,500,000</td>\n",
       "      <td>NaN</td>\n",
       "    </tr>\n",
       "    <tr>\n",
       "      <th>2368</th>\n",
       "      <td>2368</td>\n",
       "      <td>29/01/2015</td>\n",
       "      <td>Graphene</td>\n",
       "      <td>NaN</td>\n",
       "      <td>NaN</td>\n",
       "      <td>NaN</td>\n",
       "      <td>KARSEMVEN Fund</td>\n",
       "      <td>Private Equity</td>\n",
       "      <td>825,000</td>\n",
       "      <td>Govt backed VC Fund</td>\n",
       "    </tr>\n",
       "    <tr>\n",
       "      <th>2369</th>\n",
       "      <td>2369</td>\n",
       "      <td>30/01/2015</td>\n",
       "      <td>Mad Street Den</td>\n",
       "      <td>NaN</td>\n",
       "      <td>NaN</td>\n",
       "      <td>NaN</td>\n",
       "      <td>Exfinity Fund, GrowX Ventures.</td>\n",
       "      <td>Private Equity</td>\n",
       "      <td>1,500,000</td>\n",
       "      <td>NaN</td>\n",
       "    </tr>\n",
       "    <tr>\n",
       "      <th>2370</th>\n",
       "      <td>2370</td>\n",
       "      <td>30/01/2015</td>\n",
       "      <td>Simplotel</td>\n",
       "      <td>NaN</td>\n",
       "      <td>NaN</td>\n",
       "      <td>NaN</td>\n",
       "      <td>MakeMyTrip</td>\n",
       "      <td>Private Equity</td>\n",
       "      <td>NaN</td>\n",
       "      <td>Strategic Funding, Minority stake</td>\n",
       "    </tr>\n",
       "    <tr>\n",
       "      <th>2371</th>\n",
       "      <td>2371</td>\n",
       "      <td>31/01/2015</td>\n",
       "      <td>couponmachine.in</td>\n",
       "      <td>NaN</td>\n",
       "      <td>NaN</td>\n",
       "      <td>NaN</td>\n",
       "      <td>UK based Group of Angel Investors</td>\n",
       "      <td>Seed Funding</td>\n",
       "      <td>140,000</td>\n",
       "      <td>NaN</td>\n",
       "    </tr>\n",
       "  </tbody>\n",
       "</table>\n",
       "<p>2372 rows × 10 columns</p>\n",
       "</div>"
      ],
      "text/plain": [
       "       SNo        Date       StartupName   IndustryVertical  \\\n",
       "0        0  01/08/2017          TouchKin         Technology   \n",
       "1        1  02/08/2017           Ethinos         Technology   \n",
       "2        2  02/08/2017      Leverage Edu  Consumer Internet   \n",
       "3        3  02/08/2017              Zepo  Consumer Internet   \n",
       "4        4  02/08/2017      Click2Clinic  Consumer Internet   \n",
       "...    ...         ...               ...                ...   \n",
       "2367  2367  29/01/2015        Printvenue                NaN   \n",
       "2368  2368  29/01/2015          Graphene                NaN   \n",
       "2369  2369  30/01/2015    Mad Street Den                NaN   \n",
       "2370  2370  30/01/2015         Simplotel                NaN   \n",
       "2371  2371  31/01/2015  couponmachine.in                NaN   \n",
       "\n",
       "                                        SubVertical CityLocation  \\\n",
       "0                          Predictive Care Platform    Bangalore   \n",
       "1                          Digital Marketing Agency       Mumbai   \n",
       "2     Online platform for Higher Education Services    New Delhi   \n",
       "3                            DIY Ecommerce platform       Mumbai   \n",
       "4                     healthcare service aggregator    Hyderabad   \n",
       "...                                             ...          ...   \n",
       "2367                                            NaN          NaN   \n",
       "2368                                            NaN          NaN   \n",
       "2369                                            NaN          NaN   \n",
       "2370                                            NaN          NaN   \n",
       "2371                                            NaN          NaN   \n",
       "\n",
       "                                          InvestorsName  InvestmentType  \\\n",
       "0                                           Kae Capital  Private Equity   \n",
       "1                            Triton Investment Advisors  Private Equity   \n",
       "2     Kashyap Deorah, Anand Sankeshwar, Deepak Jain,...    Seed Funding   \n",
       "3     Kunal Shah, LetsVenture, Anupam Mittal, Hetal ...    Seed Funding   \n",
       "4                        Narottam Thudi, Shireesh Palle    Seed Funding   \n",
       "...                                                 ...             ...   \n",
       "2367                        Asia Pacific Internet Group  Private Equity   \n",
       "2368                                     KARSEMVEN Fund  Private Equity   \n",
       "2369                     Exfinity Fund, GrowX Ventures.  Private Equity   \n",
       "2370                                         MakeMyTrip  Private Equity   \n",
       "2371                  UK based Group of Angel Investors    Seed Funding   \n",
       "\n",
       "     AmountInUSD                            Remarks  \n",
       "0      1,300,000                                NaN  \n",
       "1            NaN                                NaN  \n",
       "2            NaN                                NaN  \n",
       "3        500,000                                NaN  \n",
       "4        850,000                                NaN  \n",
       "...          ...                                ...  \n",
       "2367   4,500,000                                NaN  \n",
       "2368     825,000                Govt backed VC Fund  \n",
       "2369   1,500,000                                NaN  \n",
       "2370         NaN  Strategic Funding, Minority stake  \n",
       "2371     140,000                                NaN  \n",
       "\n",
       "[2372 rows x 10 columns]"
      ]
     },
     "execution_count": 1,
     "metadata": {},
     "output_type": "execute_result"
    }
   ],
   "source": [
    "import pandas as pd\n",
    "import numpy as np\n",
    "import matplotlib.pyplot as plt\n",
    "\n",
    "file = pd.read_csv(r\"startup_funding.csv\")\n",
    "df = file.copy()\n",
    "\n",
    "df.head()\n",
    "df"
   ]
  },
  {
   "cell_type": "markdown",
   "metadata": {},
   "source": [
    "# Number of Fundings\n",
    "Problem Statement :\n",
    "\n",
    "Check the trend of investments over the years. To check the trend, find -\n",
    "\n",
    "Total number of fundings done in each year.\n",
    "\n",
    "Plot a line graph between year and number of fundings. Take year on x-axis and number of fundings on y-axis.\n",
    "\n",
    "Print year-wise total number of fundings also. Print years in ascending order.\n",
    "\n",
    "Note :\n",
    "\n",
    "There is some error in the 'Date' feature. Make sure to handle that."
   ]
  },
  {
   "cell_type": "code",
   "execution_count": 7,
   "metadata": {},
   "outputs": [
    {
     "data": {
      "text/plain": [
       "SNo                    0\n",
       "Date                   0\n",
       "StartupName            0\n",
       "IndustryVertical     171\n",
       "SubVertical          930\n",
       "CityLocation         179\n",
       "InvestorsName          0\n",
       "InvestmentType         1\n",
       "AmountInUSD          844\n",
       "Remarks             1946\n",
       "dtype: int64"
      ]
     },
     "execution_count": 7,
     "metadata": {},
     "output_type": "execute_result"
    }
   ],
   "source": [
    "df.isnull().sum()"
   ]
  },
  {
   "cell_type": "code",
   "execution_count": 10,
   "metadata": {},
   "outputs": [
    {
     "data": {
      "image/png": "[encoded data removed]",
      "text/plain": [
       "<Figure size 432x288 with 1 Axes>"
      ]
     },
     "metadata": {
      "needs_background": "light"
     },
     "output_type": "display_data"
    },
    {
     "name": "stdout",
     "output_type": "stream",
     "text": [
      "  1\n",
      "2015  931\n",
      "2016  993\n",
      "2017  443\n"
     ]
    }
   ],
   "source": [
    "# Open and read data file as specified in the question\n",
    "# Print the required output in given format\n",
    "import pandas as pd\n",
    "import numpy as np\n",
    "import matplotlib.pyplot as plt\n",
    "file = pd.read_csv(r\"startup_funding.csv\")\n",
    "df = file.copy()\n",
    "\n",
    "year = df['Date'].str.split('/',expand = True)[2]\n",
    "year_fund = year.value_counts()\n",
    "\n",
    "x = []\n",
    "y = []\n",
    "\n",
    "for i in sorted(year_fund.index):\n",
    "    x.append(i)\n",
    "    y.append(year_fund[i])\n",
    "\n",
    "plt.plot(x,y)\n",
    "plt.xlabel('Year')\n",
    "plt.ylabel('Number Of Fundings')\n",
    "plt.show()\n",
    "\n",
    "for j in range(len(x)):\n",
    "    print(x[j],'',y[j])"
   ]
  },
  {
   "cell_type": "markdown",
   "metadata": {},
   "source": [
    "# Top Indian Cities\n",
    "Problem Statement :\n",
    "\n",
    "Find out which cities are generally chosen for starting a startup.\n",
    "\n",
    "Find top 10 Indian cities which have most number of startups ?\n",
    "\n",
    "Plot a pie chart and visualise it.\n",
    "\n",
    "Print the city name and number of startups in that city also.\n",
    "\n",
    "Note :\n",
    "Take city name \"Delhi\" as \"New Delhi\".\n",
    "\n",
    "Check the case-sensitiveness of cities also. That means - at some place, instead of \"Bangalore\", \"bangalore\" is given. Take city name as \"Bangalore\".\n",
    "\n",
    "For few startups multiple locations are given, one Indian and one Foreign. Count those startups in Indian startup also. Indian city name is first.\n",
    "\n",
    "Print the city in descending order with respect to the number of startups."
   ]
  },
  {
   "cell_type": "code",
   "execution_count": 3,
   "metadata": {},
   "outputs": [
    {
     "data": {
      "image/png": "[encoded data removed]",
      "text/plain": [
       "<Figure size 432x288 with 1 Axes>"
      ]
     },
     "metadata": {},
     "output_type": "display_data"
    },
    {
     "name": "stdout",
     "output_type": "stream",
     "text": [
      "Bangalore   635\n",
      "Mumbai   447\n",
      "New Delhi   389\n",
      "Gurgaon   241\n",
      "Pune   91\n",
      "Noida   79\n",
      "Hyderabad   77\n",
      "Chennai   67\n",
      "Ahmedabad   35\n",
      "Jaipur   25\n"
     ]
    }
   ],
   "source": [
    "df[df['CityLocation'] == 'Delhi'] = 'New Delhi'\n",
    "df[df['CityLocation'] == 'bangalore'] = 'Bangalore'\n",
    "\n",
    "\n",
    "city = df['CityLocation'].str.split('/',expand = True)[0]\n",
    "city = city.str.strip(' ')\n",
    "city_startup = city.value_counts()\n",
    "\n",
    "x = city_startup.values\n",
    "label = city_startup.index\n",
    "\n",
    "plt.pie(x , labels = label)\n",
    "plt.show()\n",
    "\n",
    "for i in range(10):\n",
    "    print(label[i],' ',x[i])"
   ]
  },
  {
   "cell_type": "markdown",
   "metadata": {},
   "source": [
    "# Top Industries\n",
    "Problem Statement :\n",
    "\n",
    "Which type of companies got more easily funding. To answer this question, find -\n",
    "\n",
    "Top 5 industries and percentage of the total amount funded to that industry. (among top 5 only)\n",
    "\n",
    "Print the industry name and percentage of the amount funded with 2 decimal place after rounding off.\n",
    "\n",
    "Note :\n",
    "\n",
    "Ecommerce is the right word in IndustryVertical, so correct it.\n",
    "\n",
    "Print the industry in descending order with respect to the percentage of the amount funded."
   ]
  },
  {
   "cell_type": "code",
   "execution_count": 4,
   "metadata": {},
   "outputs": [
    {
     "name": "stdout",
     "output_type": "stream",
     "text": [
      "Ecommerce 40.53\n",
      "Consumer Internet 35.95\n",
      "Technology 10.45\n",
      "Online Marketplace 6.63\n",
      "E-Commerce & M-Commerce platform 6.44\n"
     ]
    },
    {
     "data": {
      "image/png": "[encoded data removed]",
      "text/plain": [
       "<Figure size 432x288 with 1 Axes>"
      ]
     },
     "metadata": {},
     "output_type": "display_data"
    }
   ],
   "source": [
    "import pandas as pd\n",
    "import numpy as np\n",
    "import matplotlib.pyplot as plt\n",
    "\n",
    "file = pd.read_csv(r\"startup_funding.csv\")\n",
    "df = file.copy()\n",
    "\n",
    "df['IndustryVertical'].replace('eCommerce','Ecommerce', inplace = True)\n",
    "df['IndustryVertical'].replace('ECommerce','Ecommerce', inplace = True)\n",
    "df['IndustryVertical'].replace('ecommerce','Ecommerce', inplace = True)\n",
    "df['IndustryVertical'].dropna(inplace = True)\n",
    "df['AmountInUSD'] = df['AmountInUSD'].str.replace(',','').fillna(0).astype(int)\n",
    "\n",
    "invest_indus = df.groupby('IndustryVertical')['AmountInUSD'].sum().sort_values(ascending = False)[0:5]\n",
    "\n",
    "perc = np.true_divide(invest_indus.values, invest_indus.values.sum())*100\n",
    "\n",
    "for i in range(len(invest_indus)):\n",
    "    print(invest_indus.index[i],format(perc[i],'.2f'))\n",
    "    \n",
    "plt.pie(invest_indus,labels = invest_indus.index,autopct= \"%.2f\",rotatelabels=True,pctdistance=2)\n",
    "plt.show()\n",
    "\n",
    "#df['IndustryVertical'].unique()"
   ]
  },
  {
   "cell_type": "markdown",
   "metadata": {},
   "source": [
    "# Top startups\n",
    "Problem Statement :\n",
    "\n",
    "Find top 5 startups with most amount of total funding.\n",
    "\n",
    "Print the startup name in descending order with respect to amount of funding.\n",
    "\n",
    "Note:\n",
    "\n",
    "Ola, Flipkart, Oyo, Paytm are important startups, so correct their names. There are many errors in startup names, ignore correcting all, just handle important ones."
   ]
  },
  {
   "cell_type": "code",
   "execution_count": 5,
   "metadata": {},
   "outputs": [
    {
     "name": "stdout",
     "output_type": "stream",
     "text": [
      "Paytm\n",
      "Flipkart\n",
      "Ola\n",
      "Snapdeal\n",
      "Oyo\n"
     ]
    }
   ],
   "source": [
    "import pandas as pd\n",
    "import numpy as np\n",
    "import matplotlib.pyplot as plt\n",
    "\n",
    "file = pd.read_csv(r\"startup_funding.csv\")\n",
    "df = file.copy()\n",
    "\n",
    "df['StartupName'].replace('Flipkart.com','Flipkart', inplace = True)\n",
    "df['StartupName'].replace('Ola Cabs','Ola', inplace = True)\n",
    "df['StartupName'].replace('Olacabs','Ola', inplace = True)\n",
    "df['StartupName'].replace('Oyo Rooms','Oyo', inplace = True)\n",
    "df['StartupName'].replace('Paytm Marketplace','Paytm', inplace = True)\n",
    "df['StartupName'].replace('Oyorooms','Oyo', inplace = True)\n",
    "df['StartupName'].replace('OyoRooms','Oyo', inplace = True)\n",
    "df['StartupName'].replace('OYO Rooms','Oyo', inplace = True)\n",
    "\n",
    "df['StartupName'].dropna(inplace = True)\n",
    "\n",
    "df['AmountInUSD'] = df['AmountInUSD'].str.replace(',','').fillna(0).astype(int)\n",
    "\n",
    "invest_startup = df.groupby('StartupName')['AmountInUSD'].sum().sort_values(ascending = False)[0:5]\n",
    "\n",
    "for i in invest_startup.index:\n",
    "    print(i)"
   ]
  },
  {
   "cell_type": "markdown",
   "metadata": {},
   "source": [
    "# Top Investor\n",
    "Problem Statement :\n",
    "\n",
    "Find the Investors who have invested maximum number of times.\n",
    "\n",
    "Print the investor name and number of times invested as integer value.\n",
    "\n",
    "Note:\n",
    "\n",
    "In startup, multiple investors might have invested. So consider each investor for that startup.\n",
    "\n",
    "Ignore the undisclosed investors"
   ]
  },
  {
   "cell_type": "code",
   "execution_count": 6,
   "metadata": {},
   "outputs": [
    {
     "name": "stdout",
     "output_type": "stream",
     "text": [
      "Sequoia Capital 39\n"
     ]
    }
   ],
   "source": [
    "import pandas as pd\n",
    "import numpy as np\n",
    "import matplotlib.pyplot as plt\n",
    "\n",
    "file = pd.read_csv(r\"startup_funding.csv\")\n",
    "df = file.copy()\n",
    "\n",
    "df.dropna(subset = ['InvestorsName'],inplace = True)\n",
    "\n",
    "def sep_investor(name):\n",
    "    return name.split(', ')[0]\n",
    "df['InvestorsName'] = df['InvestorsName'].apply(sep_investor)\n",
    "df.reset_index(drop = True,inplace = True)\n",
    "count = 0\n",
    "\n",
    "d = {}\n",
    "for i in df['InvestorsName']:\n",
    "    \n",
    "    d[i] = d.get(i,0) + 1\n",
    "\n",
    "for i in d:\n",
    "    if d[i] == max(d.values()):\n",
    "        print(i, d[i])"
   ]
  }
 ],
 "metadata": {
  "kernelspec": {
   "display_name": "Python 3",
   "language": "python",
   "name": "python3"
  },
  "language_info": {
   "codemirror_mode": {
    "name": "ipython",
    "version": 3
   },
   "file_extension": ".py",
   "mimetype": "text/x-python",
   "name": "python",
   "nbconvert_exporter": "python",
   "pygments_lexer": "ipython3",
   "version": "3.8.8"
  }
 },
 "nbformat": 4,
 "nbformat_minor": 4
}
